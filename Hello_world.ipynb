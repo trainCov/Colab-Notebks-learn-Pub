{
  "nbformat": 4,
  "nbformat_minor": 0,
  "metadata": {
    "colab": {
      "provenance": [],
      "authorship_tag": "ABX9TyMiXLiwuwvAW74fcfVzs7fi",
      "include_colab_link": true
    },
    "kernelspec": {
      "name": "python3",
      "display_name": "Python 3"
    },
    "language_info": {
      "name": "python"
    }
  },
  "cells": [
    {
      "cell_type": "markdown",
      "metadata": {
        "id": "view-in-github",
        "colab_type": "text"
      },
      "source": [
        "<a href=\"https://colab.research.google.com/github/trainCov/Colab-Notebks-learn-Pub/blob/main/Hello_world.ipynb\" target=\"_parent\"><img src=\"https://colab.research.google.com/assets/colab-badge.svg\" alt=\"Open In Colab\"/></a>"
      ]
    },
    {
      "cell_type": "code",
      "execution_count": null,
      "metadata": {
        "id": "0PpWCtGo2jrt"
      },
      "outputs": [],
      "source": [
        "import time\n",
        "print(time.ctime())"
      ]
    },
    {
      "cell_type": "code",
      "source": [
        "time.sleep(5)\n",
        "print(time.ctime())"
      ],
      "metadata": {
        "id": "_kNHeoom4peH"
      },
      "execution_count": null,
      "outputs": []
    },
    {
      "cell_type": "markdown",
      "source": [
        "This is **bold**.\n",
        "This is *italitc*.\n",
        "This is ~strikethrough~"
      ],
      "metadata": {
        "id": "ofVmrW896i7c"
      }
    },
    {
      "cell_type": "markdown",
      "source": [
        "$\\sqrt{3x-1} + (1+x)^2$"
      ],
      "metadata": {
        "id": "N3I0hZZI7Fpj"
      }
    },
    {
      "cell_type": "markdown",
      "source": [
        "$e^x = \\sum_{i=0}^∞ \\frac{1}{i!}x^i$"
      ],
      "metadata": {
        "id": "hFy2EkI-8dTK"
      }
    },
    {
      "cell_type": "code",
      "source": [],
      "metadata": {
        "id": "LiSAg0Eq4o3A"
      },
      "execution_count": null,
      "outputs": []
    }
  ]
}